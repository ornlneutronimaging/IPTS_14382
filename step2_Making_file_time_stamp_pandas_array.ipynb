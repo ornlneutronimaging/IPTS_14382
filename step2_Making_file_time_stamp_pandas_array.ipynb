{
 "cells": [
  {
   "cell_type": "markdown",
   "metadata": {
    "heading_collapsed": true,
    "slideshow": {
     "slide_type": "slide"
    }
   },
   "source": [
    "# Table of Contents\n",
    "* [Description](#Description)\n",
    "* [Import](#Import)\n",
    "* [Retrive Data Set](#Retrive-Data-Set)\n",
    "* [Retrieving time stamp (when the file was created)](#Retrieving-time-stamp-%28when-the-file-was-created%29)\n",
    "* [output the dictionary](#output-the-dictionary)\n"
   ]
  },
  {
   "cell_type": "markdown",
   "metadata": {
    "slideshow": {
     "slide_type": "skip"
    }
   },
   "source": [
    "# Description"
   ]
  },
  {
   "cell_type": "markdown",
   "metadata": {
    "slideshow": {
     "slide_type": "slide"
    }
   },
   "source": [
    "**<span style=\"color:red\">IMPORTANT</span>** All cells can be run at once  ---->   **  Cell > Run All **\n",
    "\n",
    "\n",
    "This notebook will create another database (pandas) of the file name vs time_stamp of the file. The output of this file, with the output of the step1 notebook will allow to match file_name with the furnace temperature.\n",
    "\n",
    "**time_file_name.csv**\n",
    "```\n",
    "1441276190.0,Image000_00000.fits\n",
    "1441276602.0,Image001_00000.fits\n",
    "1441277010.0,Image002_00000.fits\n",
    "1441277424.0,Image003_00000.fits\n",
    "1441277836.0,Image004_00000.fits\n",
    "1441278254.0,Image005_00000.fits\n",
    "1441278664.0,Image006_00000.fits\n",
    "1441279078.0,Image007_00000.fits\n",
    "1441279490.0,Image008_00000.fits\n",
    "1441279910.0,Image009_00000.fits\n",
    "1441280322.0,Image010_00000.fits\n",
    "1441280738.0,Image011_00000.fits\n",
    "...\n",
    "\n",
    "```"
   ]
  },
  {
   "cell_type": "markdown",
   "metadata": {
    "slideshow": {
     "slide_type": "skip"
    }
   },
   "source": [
    "where the first column is the time stamp (when the file was created) and the second column the base file name"
   ]
  },
  {
   "cell_type": "markdown",
   "metadata": {
    "slideshow": {
     "slide_type": "skip"
    }
   },
   "source": [
    "# Import"
   ]
  },
  {
   "cell_type": "code",
   "execution_count": 1,
   "metadata": {
    "collapsed": true,
    "slideshow": {
     "slide_type": "slide"
    }
   },
   "outputs": [],
   "source": [
    "verbose = False\n",
    "\n",
    "import time\n",
    "import os\n",
    "import glob\n",
    "from pprint import pprint\n",
    "import matplotlib.pyplot as plt\n",
    "%matplotlib notebook\n",
    "\n",
    "from ipywidgets import widgets\n",
    "from IPython.display import display\n",
    "\n",
    "import config_handler\n",
    "import time_utility\n",
    "import file_handler"
   ]
  },
  {
   "cell_type": "markdown",
   "metadata": {},
   "source": [
    "# Retrive Data Set"
   ]
  },
  {
   "cell_type": "code",
   "execution_count": 2,
   "metadata": {
    "collapsed": false
   },
   "outputs": [],
   "source": [
    "data_dir = config_handler.load_config(key='input_raw_folder')\n",
    "\n",
    "# We are only keeping all the first file of each image\n",
    "# list all *.fits file from data_dir\n",
    "list_fname = glob.glob(data_dir + '/*0000.fits')\n",
    "\n",
    "number_of_files = len(list_fname)\n",
    "if verbose:\n",
    "    pprint(\"folder requested: %s\" %data_dir)\n",
    "    pprint(\"Number of images: %d\" %number_of_files)\n",
    "\n",
    "if verbose:\n",
    "    pprint(list_fname[0:10])"
   ]
  },
  {
   "cell_type": "markdown",
   "metadata": {},
   "source": [
    "# Retrieving time stamp (when the file was created)"
   ]
  },
  {
   "cell_type": "code",
   "execution_count": 3,
   "metadata": {
    "collapsed": false
   },
   "outputs": [],
   "source": [
    "w = widgets.IntProgress()\n",
    "w.max = number_of_files\n",
    "\n",
    "display(w)\n",
    "\n",
    "timestamp_array = []\n",
    "list_base_fname = []\n",
    "for index, _file in enumerate(list_fname):\n",
    "#    date_time_stamp = time.ctime(os.path.getmtime(_file))\n",
    "    time_stamp = os.path.getmtime(_file)\n",
    "    timestamp_array.append(time_stamp)\n",
    "#    converted_timestamp = pd.to_datetime(date_time_stamp)\n",
    "#    timestamp_array.append(converted_timestamp)    \n",
    "    list_base_fname.append(os.path.basename(_file))\n",
    "    w.value = index+1\n",
    "    \n",
    "w.visible = False\n",
    "data = list(zip(timestamp_array, list_base_fname))\n",
    "dates_vs_file_name = pd.DataFrame(data, columns=['time_stamp','file_name'])\n",
    "if verbose:\n",
    "    dates_vs_file_name.head()"
   ]
  },
  {
   "cell_type": "markdown",
   "metadata": {},
   "source": [
    "# output the dictionary"
   ]
  },
  {
   "cell_type": "code",
   "execution_count": 4,
   "metadata": {
    "collapsed": false
   },
   "outputs": [],
   "source": [
    "base_file_name = data_dir.split('/')[-1]\n",
    "output_folder = config_handler.load_config(key = 'output_folder')\n",
    "output_file = os.path.join(output_folder, 'time_file_name.csv')\n",
    "\n",
    "if verbose:\n",
    "    print(\"Output File Created: {}\".format(output_file))\n",
    "dates_vs_file_name.to_csv(output_file, index=False, header=False)"
   ]
  }
 ],
 "metadata": {
  "anaconda-cloud": {},
  "celltoolbar": "Raw Cell Format",
  "kernelspec": {
   "display_name": "Python [default]",
   "language": "python",
   "name": "python3"
  },
  "language_info": {
   "codemirror_mode": {
    "name": "ipython",
    "version": 3
   },
   "file_extension": ".py",
   "mimetype": "text/x-python",
   "name": "python",
   "nbconvert_exporter": "python",
   "pygments_lexer": "ipython3",
   "version": "3.5.2"
  }
 },
 "nbformat": 4,
 "nbformat_minor": 0
}
