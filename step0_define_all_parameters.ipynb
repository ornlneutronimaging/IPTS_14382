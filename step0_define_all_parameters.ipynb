{
 "cells": [
  {
   "cell_type": "markdown",
   "metadata": {},
   "source": [
    "# Description"
   ]
  },
  {
   "cell_type": "markdown",
   "metadata": {},
   "source": [
    "In this notebook, you will define all the parameters used by all the other notebooks such as:\n",
    " - the folder that contains the Vacuum Furnace file - step1\n",
    " - the output folder where you want the various intermediate files and final rebinned images to be created - step1, step2, step3, step4, step6\n",
    " - the folder that contains the raw data (will be used to determine the time stamp of the files) - step6\n",
    " - the folder that contains the corrected images (will be used to rebin the data) - step2\n",
    " - rebinning algorithm selected (mean or add) - step6"
   ]
  },
  {
   "cell_type": "markdown",
   "metadata": {},
   "source": [
    "# Import"
   ]
  },
  {
   "cell_type": "code",
   "execution_count": 3,
   "metadata": {
    "collapsed": false
   },
   "outputs": [
    {
     "name": "stdout",
     "output_type": "stream",
     "text": [
      "Unrecognized JSON config file version, assuming version 1\r\n",
      "Unrecognized JSON config file version, assuming version 1\r\n",
      "Collisions detected in jupyter_notebook_config.py and jupyter_notebook_config.json config files. jupyter_notebook_config.json has higher priority: {\r\n",
      "      \"NotebookApp\": {\r\n",
      "        \"nbserver_extensions\": \"{'nb_conda': True, 'nbpresent': True, 'nb_anacondacloud': True} ignored, using {'jupyter_nbextensions_configurator': True}\"\r\n",
      "      }\r\n",
      "    }\r\n",
      "Enabling notebook extension jupyter-js-widgets/extension...\r\n",
      "      - Validating: \u001b[32mOK\u001b[0m\r\n"
     ]
    }
   ],
   "source": [
    "from ipywidgets import widgets\n",
    "\n",
    "import config_handler\n",
    "import gui_widgets\n",
    "\n",
    "config_handler.init_config()\n",
    "\n",
    "import custom_style; custom_style.style()\n",
    "!jupyter nbextension enable --py widgetsnbextension #this to allow dropdown to work"
   ]
  },
  {
   "cell_type": "code",
   "execution_count": 1,
   "metadata": {
    "collapsed": true
   },
   "outputs": [],
   "source": [
    "%gui qt"
   ]
  },
  {
   "cell_type": "markdown",
   "metadata": {},
   "source": [
    "# Inputs "
   ]
  },
  {
   "cell_type": "markdown",
   "metadata": {},
   "source": [
    "## Furnace File Input Folder"
   ]
  },
  {
   "cell_type": "code",
   "execution_count": 4,
   "metadata": {
    "collapsed": false
   },
   "outputs": [],
   "source": [
    "root_folder = config_handler.load_config(key = 'root_folder', \\\n",
    "                                         default_value = '/Volumes/my_book_thunderbolt_duo/IPTS/sebastien/')\n",
    "furnace_file_folder = gui_widgets.gui_dname(dir=root_folder,\n",
    "                                           message='Select the Vacuum_Furnace.txt File Folder ...')\n",
    "config_handler.save_config(key='furnace_file_folder', value=furnace_file_folder)"
   ]
  },
  {
   "cell_type": "markdown",
   "metadata": {},
   "source": [
    "## Input Raw Images Folder"
   ]
  },
  {
   "cell_type": "code",
   "execution_count": 5,
   "metadata": {
    "collapsed": true
   },
   "outputs": [],
   "source": [
    "input_folder = gui_widgets.gui_dname(dir=root_folder,\n",
    "                                        message='Select the Input Raw Folder ...')\n",
    "config_handler.save_config(key='input_raw_folder', value=input_folder)"
   ]
  },
  {
   "cell_type": "markdown",
   "metadata": {},
   "source": [
    "## Input Corrected Images Folder "
   ]
  },
  {
   "cell_type": "code",
   "execution_count": 6,
   "metadata": {
    "collapsed": false
   },
   "outputs": [],
   "source": [
    "input_folder_2 = gui_widgets.gui_dname(dir=root_folder,\n",
    "                                        message='Select the Input Corrected Folder ...')\n",
    "config_handler.save_config(key='input_corrected_folder', value=input_folder_2)"
   ]
  },
  {
   "cell_type": "markdown",
   "metadata": {},
   "source": [
    "## Output Folder (where the intermediate and final rebinned files will be created)"
   ]
  },
  {
   "cell_type": "code",
   "execution_count": 7,
   "metadata": {
    "collapsed": true
   },
   "outputs": [],
   "source": [
    "output_folder = gui_widgets.gui_dname(dir=root_folder,\n",
    "                                        message='Select the Output Folder ...')\n",
    "config_handler.save_config(key='output_folder', value=output_folder)"
   ]
  },
  {
   "cell_type": "markdown",
   "metadata": {},
   "source": [
    "## Rebinning Algorithm "
   ]
  },
  {
   "cell_type": "code",
   "execution_count": 8,
   "metadata": {
    "collapsed": false
   },
   "outputs": [
    {
     "name": "stderr",
     "output_type": "stream",
     "text": [
      "Widget Javascript not detected.  It may not be installed properly. Did you enable the widgetsnbextension? If not, then run \"jupyter nbextension enable --py --sys-prefix widgetsnbextension\"\n"
     ]
    }
   ],
   "source": [
    "list_algo = ['Add', 'Mean']\n",
    "algo = widgets.Dropdown(options=list_algo,\n",
    "                       description='Select Algorithm')\n",
    "algo"
   ]
  },
  {
   "cell_type": "code",
   "execution_count": 9,
   "metadata": {
    "collapsed": true
   },
   "outputs": [],
   "source": [
    "config_handler.save_config(key='rebin_algo', value=algo.value.lower())"
   ]
  },
  {
   "cell_type": "markdown",
   "metadata": {},
   "source": [
    "## Recapitulation"
   ]
  },
  {
   "cell_type": "code",
   "execution_count": 10,
   "metadata": {
    "collapsed": false
   },
   "outputs": [
    {
     "name": "stdout",
     "output_type": "stream",
     "text": [
      "--> Furnace File Input Folder: /Volumes/my_book_thunderbolt_duo/IPTS/IPTS_14832\n",
      "--> Input Raw Images Folder  : /Volumes/my_book_thunderbolt_duo/IPTS/IPTS_14832/raw\n",
      "--> Input Corrected Images Folder: /Volumes/my_book_thunderbolt_duo/IPTS/IPTS_14832/corrected_data_full\n",
      "--> Output Folder: /Users/j35/Desktop/IPTS_14832_output\n",
      "--> Rebin Algorithm: Mean\n"
     ]
    }
   ],
   "source": [
    "print(\"--> Furnace File Input Folder: {}\".format(furnace_file_folder))\n",
    "print(\"--> Input Raw Images Folder  : {}\".format(input_folder))\n",
    "print(\"--> Input Corrected Images Folder: {}\".format(input_folder_2))\n",
    "print(\"--> Output Folder: {}\".format(output_folder))\n",
    "print(\"--> Rebin Algorithm: {}\".format(algo.value))"
   ]
  },
  {
   "cell_type": "code",
   "execution_count": null,
   "metadata": {
    "collapsed": true
   },
   "outputs": [],
   "source": []
  }
 ],
 "metadata": {
  "anaconda-cloud": {},
  "kernelspec": {
   "display_name": "Python [conda env:py35]",
   "language": "python",
   "name": "conda-env-py35-py"
  },
  "language_info": {
   "codemirror_mode": {
    "name": "ipython",
    "version": 3
   },
   "file_extension": ".py",
   "mimetype": "text/x-python",
   "name": "python",
   "nbconvert_exporter": "python",
   "pygments_lexer": "ipython3",
   "version": "3.5.2"
  },
  "widgets": {
   "state": {
    "946d453a4da046f6a6f4d5ac7bd39409": {
     "views": [
      {
       "cell_index": 15
      }
     ]
    }
   },
   "version": "1.2.0"
  }
 },
 "nbformat": 4,
 "nbformat_minor": 0
}
